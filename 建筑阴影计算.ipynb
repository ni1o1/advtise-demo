{
 "cells": [
  {
   "cell_type": "code",
   "execution_count": 123,
   "metadata": {},
   "outputs": [],
   "source": [
    "import pandas as pd\n",
    "import numpy as np\n",
    "import geopandas as gpd\n",
    "import python.singleShadow as singleShadow\n",
    "from suncalc import get_position,get_times\n",
    "from shapely.geometry import Polygon"
   ]
  },
  {
   "cell_type": "code",
   "execution_count": 124,
   "metadata": {},
   "outputs": [],
   "source": [
    "def bdshadow(bd,height,sunPosition):\n",
    "    '''\n",
    "    输入建筑物Polygon与高度,时间，输出阴影Polygon\n",
    "    '''\n",
    "    wall = pd.DataFrame(list(bd.exterior.coords),columns=['x1','y1'])\n",
    "    wall['x2'] = wall['x1'].shift(-1)\n",
    "    wall['y2'] = wall['y1'].shift(-1)\n",
    "    wall['height']=height\n",
    "    wall = wall.iloc[:-1]\n",
    "    wall['geometry'] = wall.apply(lambda r:Polygon(singleShadow.calSunShadow([[r['x1'],r['y1']],[r['x2'],r['y2']]],r['height'],sunPosition)),axis = 1)\n",
    "    shadow = gpd.GeoSeries(list(wall['geometry'])+[bd]).unary_union\n",
    "    return shadow"
   ]
  },
  {
   "cell_type": "code",
   "execution_count": 125,
   "metadata": {},
   "outputs": [],
   "source": [
    "building = gpd.read_file(r'data/bd_demo.json')\n",
    "#给定经纬度\n",
    "lon1,lat1,lon2,lat2 = list(building.bounds.mean())\n",
    "lon = (lon1+lon2)/2\n",
    "lat = (lat1+lat2)/2"
   ]
  },
  {
   "cell_type": "code",
   "execution_count": 126,
   "metadata": {},
   "outputs": [
    {
     "name": "stderr",
     "output_type": "stream",
     "text": [
      "/opt/anaconda3/lib/python3.8/site-packages/pyproj/crs/crs.py:131: FutureWarning: '+init=<authority>:<code>' syntax is deprecated. '<authority>:<code>' is the preferred initialization method. When making the change, be mindful of axis order changes: https://pyproj4.github.io/pyproj/stable/gotchas.html#axis-order-changes-in-proj-6\n",
      "  in_crs_string = _prepare_from_proj_string(in_crs_string)\n"
     ]
    }
   ],
   "source": [
    "#建筑转换坐标系\n",
    "building.crs = {'init':'epsg:4326'}\n",
    "building = building.to_crs(epsg = 3857)\n",
    "testbuilding = building.iloc[:4]"
   ]
  },
  {
   "cell_type": "code",
   "execution_count": 127,
   "metadata": {},
   "outputs": [],
   "source": [
    "#时间\n",
    "date = pd.to_datetime('2015-01-01 02:45:33.959797119')\n",
    "#正午时间，获取太阳位置\n",
    "sunPosition = get_position(date, lon, lat)\n",
    "buildingshadow = testbuilding.copy()\n",
    "buildingshadow['geometry'] = testbuilding.apply(lambda r:bdshadow(r['geometry'],r['height'],sunPosition),axis = 1)\n"
   ]
  },
  {
   "cell_type": "code",
   "execution_count": 128,
   "metadata": {},
   "outputs": [
    {
     "data": {
      "image/png": "[encoded data removed]",
      "text/plain": [
       "<Figure size 360x360 with 1 Axes>"
      ]
     },
     "metadata": {
      "needs_background": "light"
     },
     "output_type": "display_data"
    }
   ],
   "source": [
    "import seaborn as sns\n",
    "import matplotlib.pyplot as plt\n",
    "fig = plt.figure(1,(5,5))\n",
    "ax = plt.subplot(111)\n",
    "\n",
    "buildingshadow.plot(ax = ax,facecolor = (0,0,0,0.3))\n",
    "testbuilding.plot(ax = ax,edgecolor = 'k')\n",
    "\n",
    "plt.show()"
   ]
  }
 ],
 "metadata": {
  "interpreter": {
   "hash": "40d3a090f54c6569ab1632332b64b2c03c39dcf918b08424e98f38b5ae0af88f"
  },
  "kernelspec": {
   "display_name": "Python 3.8.8 ('base')",
   "language": "python",
   "name": "python3"
  },
  "language_info": {
   "codemirror_mode": {
    "name": "ipython",
    "version": 3
   },
   "file_extension": ".py",
   "mimetype": "text/x-python",
   "name": "python",
   "nbconvert_exporter": "python",
   "pygments_lexer": "ipython3",
   "version": "3.8.8"
  },
  "orig_nbformat": 4
 },
 "nbformat": 4,
 "nbformat_minor": 2
}
